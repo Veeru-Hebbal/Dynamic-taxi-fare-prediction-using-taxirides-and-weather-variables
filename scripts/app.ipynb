{
 "cells": [
  {
   "cell_type": "markdown",
   "id": "09fdb846",
   "metadata": {},
   "source": [
    "# Streamlit app for 'Dynamic taxi fare prediction'"
   ]
  },
  {
   "cell_type": "code",
   "execution_count": 1,
   "id": "eba032d5",
   "metadata": {},
   "outputs": [],
   "source": [
    "# Import the necessary libraries\n",
    "import streamlit as st\n",
    "from pycaret.regression import *\n",
    "import pickle\n",
    "import os\n",
    "import sys\n",
    "import requests"
   ]
  },
  {
   "cell_type": "code",
   "execution_count": 2,
   "id": "be48a034",
   "metadata": {},
   "outputs": [],
   "source": [
    "# Set the working directory to H:/dsp\n",
    "os.chdir('H:/')\n",
    "os.getcwd()\n",
    "directory_path = os.path.join(os.getcwd(), 'taxiapp')\n",
    "data_file = os.path.join(directory_path, 'data', 'rideshare_kaggle_20k.csv')"
   ]
  },
  {
   "cell_type": "code",
   "execution_count": 3,
   "id": "a10a1f9d",
   "metadata": {},
   "outputs": [],
   "source": [
    "# Construct the relative file path to the CSV file\n",
    "data_file = os.path.join(directory_path, 'data', 'rideshare_kaggle_20k.csv')\n",
    "autoML_file = os.path.join(directory_path, 'models', 'taxi38_autoML_pipeline')"
   ]
  },
  {
   "cell_type": "code",
   "execution_count": 4,
   "id": "c6ecdc19",
   "metadata": {},
   "outputs": [
    {
     "name": "stderr",
     "output_type": "stream",
     "text": [
      "2023-03-19 20:23:12.097 INFO    logs: Initializing load_model()\n",
      "2023-03-19 20:23:12.097 INFO    logs: load_model(model_name=H:\\taxiapp\\models\\taxi38_autoML_pipeline, platform=None, authentication=None, verbose=True)\n"
     ]
    },
    {
     "name": "stdout",
     "output_type": "stream",
     "text": [
      "Transformation Pipeline and Model Successfully Loaded\n"
     ]
    }
   ],
   "source": [
    "# Loading the model saved from main.py file\n",
    "loaded_model = load_model(autoML_file)"
   ]
  },
  {
   "cell_type": "code",
   "execution_count": 5,
   "id": "e2b1eb8a",
   "metadata": {},
   "outputs": [],
   "source": [
    "# Create a function to predict the fare amount\n",
    "def predict_fare(hour, day, month, source, destination, cab_type, name, distance, \n",
    "                 surge_multiplier, temperature, short_summary, precipIntensity, precipIntensityMax, precipProbability, humidity, windSpeed, \n",
    "                 windGust, visibility, temperatureHigh, temperatureLow, dewPoint, pressure, windBearing, cloudCover, uvIndex, ozone):\n",
    "    input_dict = {'hour': [hour], \n",
    "                  'day': [day],\n",
    "                  'month': [month],                  \n",
    "                  'source': [source],\n",
    "                  'destination': [destination],\n",
    "                  'cab_type': [cab_type],\n",
    "                  'name': [name],\n",
    "                  \n",
    "                  'distance': [distance],\n",
    "                  'surge_multiplier': [surge_multiplier],\n",
    "                  'temperature': [temperature],                  \n",
    "                  'short_summary': [short_summary],\n",
    "                  'precipIntensity': [precipIntensity],\n",
    "                  'precipIntensityMax': [precipIntensityMax],\n",
    "                  'precipProbability': [precipProbability],\n",
    "                  'humidity': [humidity],\n",
    "                  'windSpeed': [windSpeed],\n",
    "                  'windGust': [windGust],\n",
    "                  'visibility': [visibility],\n",
    "                  'temperatureHigh': [temperatureHigh],\n",
    "                  'temperatureLow': [temperatureLow],\n",
    "                  'dewPoint': [dewPoint],\n",
    "                  'pressure': [pressure],\n",
    "                  'windBearing': [windBearing],\n",
    "                  'cloudCover': [cloudCover],\n",
    "                  'uvIndex': [uvIndex],\n",
    "                  'ozone': [ozone],\n",
    "                  }\n",
    "    input_df = pd.DataFrame.from_dict(input_dict)\n",
    "    return predict_model(loaded_model, data=input_df)['Label'][0]\n"
   ]
  },
  {
   "cell_type": "markdown",
   "id": "9964ff8b",
   "metadata": {},
   "source": [
    "# Define the Streamlit app"
   ]
  },
  {
   "cell_type": "code",
   "execution_count": 6,
   "id": "3be7ed22",
   "metadata": {},
   "outputs": [
    {
     "name": "stderr",
     "output_type": "stream",
     "text": [
      "2023-03-19 20:23:12.427 \n",
      "  \u001b[33m\u001b[1mWarning:\u001b[0m to view this Streamlit app on a browser, run it with the following\n",
      "  command:\n",
      "\n",
      "    streamlit run C:\\ProgramData\\Anaconda3\\envs\\taxiapp_01\\lib\\site-packages\\ipykernel_launcher.py [ARGUMENTS]\n"
     ]
    }
   ],
   "source": [
    "st.title('Taxi Fare Prediction')\n",
    "st.write('Enter the details below to predict the taxi fare amount')"
   ]
  },
  {
   "cell_type": "code",
   "execution_count": 7,
   "id": "a263a158",
   "metadata": {},
   "outputs": [],
   "source": [
    "hour = st.slider('Hour', 0, 23, 9)\n",
    "day = st.slider('Day', 1, 31, 23)\n",
    "month = st.slider('Month', 1, 12, 5)"
   ]
  },
  {
   "cell_type": "code",
   "execution_count": 8,
   "id": "b6ea4746",
   "metadata": {},
   "outputs": [],
   "source": [
    "source = st.selectbox('Source', ['Boston University', 'Beacon Hill', 'Back Bay',  \n",
    "                                 'Fenway', 'Financial District', 'Haymarket Square', \n",
    "                                 'North End', 'North Station', 'Northeastern University', \n",
    "                                 'South Station', 'Theatre District', 'West End'])"
   ]
  },
  {
   "cell_type": "code",
   "execution_count": 9,
   "id": "2eaf0daa",
   "metadata": {},
   "outputs": [],
   "source": [
    "destination = st.selectbox('Destination', ['Back Bay', 'Beacon Hill', 'Boston University', \n",
    "                                           'Fenway', 'Financial District', 'Haymarket Square', \n",
    "                                           'North End', 'North Station', 'Northeastern University', \n",
    "                                           'South Station', 'Theatre District', 'West End'])"
   ]
  },
  {
   "cell_type": "code",
   "execution_count": 10,
   "id": "09c37941",
   "metadata": {},
   "outputs": [],
   "source": [
    "cab_type = st.selectbox('Cab Type', ['Lyft', 'Uber'])\n",
    "name = st.selectbox('Cab name', ['Shared', 'Lux', 'Lyft', 'Lux Black XL', 'Lyft XL', \n",
    "                                 'Lux Black', 'UberXL', 'Black', 'UberX', 'WAV', \n",
    "                                 'Black SUV', 'UberPool', 'Taxi'])"
   ]
  },
  {
   "cell_type": "code",
   "execution_count": 11,
   "id": "3658364a",
   "metadata": {},
   "outputs": [],
   "source": [
    "# price = st.slider('price', 2.00, 100.00, 16.43)\n",
    "distance = st.number_input('Distance (miles)', value=2.0, min_value=0.0, max_value=100.0, step=0.1, format='%f')\n",
    "surge_multiplier = st.selectbox('surge multiplier', [1.0, 1.25, 1.5, 1.75, 2.0, 2.5])\n",
    "temperature = st.slider('Temperature', 0.00, 60.00, 39.52)"
   ]
  },
  {
   "cell_type": "code",
   "execution_count": 12,
   "id": "b684482f",
   "metadata": {},
   "outputs": [],
   "source": [
    "short_summary = st.selectbox('Weather summary', [' Mostly Cloudy ', ' Rain ', ' Clear ', \n",
    "                                                     ' Partly Cloudy ', ' Overcast ', ' Light Rain ', \n",
    "                                                     ' Foggy ', ' Possible Drizzle ', ' Drizzle '])"
   ]
  },
  {
   "cell_type": "code",
   "execution_count": 13,
   "id": "76589fce",
   "metadata": {},
   "outputs": [],
   "source": [
    "precipIntensity = st.slider('precipitation Intensity', 0.0000, 0.2000, 0.0089)\n",
    "precipIntensityMax = st.slider('precipation Intensity Max', 0.0000, 0.2000, 0.0376)\n",
    "precipProbability = st.slider('precipitation Probability', 0.0000, 0.1000, 0.1454)"
   ]
  },
  {
   "cell_type": "code",
   "execution_count": 14,
   "id": "4958270d",
   "metadata": {},
   "outputs": [],
   "source": [
    "humidity = st.slider('humidity', 0.30, 1.00, 0.74)\n",
    "windSpeed = st.slider('wind Speed', 0.20, 20.00, 6.22)\n",
    "windGust = st.slider('wind Gust', 0.50, 30.00, 8.51)\n",
    "visibility = st.slider('visibility', 0.500, 15.000, 8.474)\n",
    "temperatureHigh = st.slider('High temperature', 30.00, 60.00, 44.95)\n",
    "temperatureLow = st.slider('Low temperature', 0.00, 58.00, 34.17)\n",
    "dewPoint = st.slider('Dew Point', 3.00, 55.00, 31.57)\n",
    "pressure = st.slider('pressure', 980.00, 1040.00, 1009.85)\n",
    "windBearing = st.slider('wind Bearing', 0.00, 359.00, 220.25)\n",
    "cloudCover = st.slider('Cloud Cover', 0.00, 1.00, 0.687)\n",
    "uvIndex = st.selectbox('uvIndex', [0, 1, 2])\n",
    "ozone = st.slider('ozone', 250.00, 400.00, 314.02)"
   ]
  },
  {
   "cell_type": "markdown",
   "id": "f3991ee5",
   "metadata": {},
   "source": [
    "# Making the prediction"
   ]
  },
  {
   "cell_type": "code",
   "execution_count": 15,
   "id": "266d5097",
   "metadata": {},
   "outputs": [],
   "source": [
    "if st.button('Predict Fare'):\n",
    "    fare = predict_fare(hour, day, month, source, destination, cab_type, name, distance, \n",
    "                        surge_multiplier, temperature, short_summary, precipIntensity, \n",
    "                        precipIntensityMax, precipProbability, humidity, windSpeed, windGust, \n",
    "                        visibility, temperatureHigh, temperatureLow, dewPoint, pressure, \n",
    "                        windBearing, cloudCover, uvIndex, ozone)\n",
    "    st.success(f'The estimated fare amount is ${fare:.2f}')\n",
    "    predict_fare()\n"
   ]
  },
  {
   "cell_type": "code",
   "execution_count": 16,
   "id": "98f1c48b",
   "metadata": {},
   "outputs": [],
   "source": [
    "# To refresh the page as additional improvement\n",
    "if st.button(\"Refresh\"):\n",
    "    # Send a GET request to the URL to refresh the app\n",
    "    requests.get(\"http://localhost:8501/\")"
   ]
  },
  {
   "cell_type": "markdown",
   "id": "a34085c6",
   "metadata": {},
   "source": [
    "# ### END of SCRIPT \\###"
   ]
  }
 ],
 "metadata": {
  "kernelspec": {
   "display_name": "Python 3 (ipykernel)",
   "language": "python",
   "name": "python3"
  },
  "language_info": {
   "codemirror_mode": {
    "name": "ipython",
    "version": 3
   },
   "file_extension": ".py",
   "mimetype": "text/x-python",
   "name": "python",
   "nbconvert_exporter": "python",
   "pygments_lexer": "ipython3",
   "version": "3.8.16"
  }
 },
 "nbformat": 4,
 "nbformat_minor": 5
}
