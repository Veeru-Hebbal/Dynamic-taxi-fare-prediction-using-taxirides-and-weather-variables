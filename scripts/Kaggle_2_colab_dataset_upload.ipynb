{
  "nbformat": 4,
  "nbformat_minor": 0,
  "metadata": {
    "colab": {
      "provenance": []
    },
    "kernelspec": {
      "name": "python3",
      "display_name": "Python 3"
    },
    "language_info": {
      "name": "python"
    }
  },
  "cells": [
    {
      "cell_type": "markdown",
      "source": [
        "Kaggle to Colab data fork rather than uploading from local-drive"
      ],
      "metadata": {
        "id": "2oJv45QAZHzY"
      }
    },
    {
      "cell_type": "code",
      "execution_count": 14,
      "metadata": {
        "id": "UFncG5l9Ts41"
      },
      "outputs": [],
      "source": [
        "# First Install kaggle library\n",
        "#! pip install kaggle"
      ]
    },
    {
      "cell_type": "code",
      "source": [
        "# Then import the kaggle\n",
        "import kaggle"
      ],
      "metadata": {
        "id": "X8rEpnvib5V7"
      },
      "execution_count": 15,
      "outputs": []
    },
    {
      "cell_type": "code",
      "source": [
        "# Create a kaggle File at the local-drive default location\n",
        "!mkdir ~/.kaggle"
      ],
      "metadata": {
        "colab": {
          "base_uri": "https://localhost:8080/"
        },
        "id": "8AO9z1YNXOEv",
        "outputId": "671bb964-97af-4ff0-8060-66585937032c"
      },
      "execution_count": 16,
      "outputs": [
        {
          "output_type": "stream",
          "name": "stdout",
          "text": [
            "mkdir: cannot create directory ‘/root/.kaggle’: File exists\n"
          ]
        }
      ]
    },
    {
      "cell_type": "code",
      "source": [
        "# Mount the Gdrive where the project is stored\n",
        "from google.colab import drive\n",
        "drive.mount(\"/content/drive\", force_remount=True)\n",
        "# Here I am forcing the remout. If in case it is already open."
      ],
      "metadata": {
        "colab": {
          "base_uri": "https://localhost:8080/"
        },
        "id": "YbEzILQ8X7vT",
        "outputId": "af39193b-fde6-4d62-cf6c-5e1b9c359ce7"
      },
      "execution_count": 17,
      "outputs": [
        {
          "output_type": "stream",
          "name": "stdout",
          "text": [
            "Mounted at /content/drive\n"
          ]
        }
      ]
    },
    {
      "cell_type": "code",
      "source": [
        "# Copying the kaggle.json file into the local-drive (local machine)\n",
        "!cp /content/drive/MyDrive/kaggle.json ~/.kaggle/kaggle.json"
      ],
      "metadata": {
        "id": "jzFoJ7tWWNhN"
      },
      "execution_count": 18,
      "outputs": []
    },
    {
      "cell_type": "code",
      "source": [
        "# Now, simply run the code to import dataset of 'rideshare_kaggle.csv from kaggle \n",
        "!kaggle datasets download -d brllrb/uber-and-lyft-dataset-boston-ma"
      ],
      "metadata": {
        "colab": {
          "base_uri": "https://localhost:8080/"
        },
        "id": "qXpAQ5jtX73L",
        "outputId": "f6d150a8-c996-46ff-f02b-695476079f7c"
      },
      "execution_count": 19,
      "outputs": [
        {
          "output_type": "stream",
          "name": "stdout",
          "text": [
            "Downloading uber-and-lyft-dataset-boston-ma.zip to /content\n",
            " 63% 28.0M/44.5M [00:00<00:00, 157MB/s] \n",
            "100% 44.5M/44.5M [00:00<00:00, 159MB/s]\n"
          ]
        }
      ]
    },
    {
      "cell_type": "code",
      "source": [
        "# Once the data is uploaded in ZIP format. It requires to be uncompressed in Gdrive.\n",
        "!unzip uber-and-lyft-dataset-boston-ma.zip"
      ],
      "metadata": {
        "colab": {
          "base_uri": "https://localhost:8080/"
        },
        "id": "5aqV4CtvYZvQ",
        "outputId": "78980994-bebf-43ce-e42a-07d615e88d3d"
      },
      "execution_count": 20,
      "outputs": [
        {
          "output_type": "stream",
          "name": "stdout",
          "text": [
            "Archive:  uber-and-lyft-dataset-boston-ma.zip\n",
            "  inflating: rideshare_kaggle.csv    \n"
          ]
        }
      ]
    },
    {
      "cell_type": "code",
      "source": [
        "# Now to remove the ZIP file as it is not required in colab environment.\n",
        "!rm uber-and-lyft-dataset-boston-ma.zip\n",
        "# Press refresh button in colab (next to upload files button) to check if its gone. Or run below code."
      ],
      "metadata": {
        "id": "N5rj2z_NZC7C"
      },
      "execution_count": 21,
      "outputs": []
    },
    {
      "cell_type": "code",
      "source": [
        "!ls"
      ],
      "metadata": {
        "colab": {
          "base_uri": "https://localhost:8080/"
        },
        "id": "-YTrmWVNZC93",
        "outputId": "bfe8f86c-cb64-4ebe-afce-70ba2bb52f29"
      },
      "execution_count": 22,
      "outputs": [
        {
          "output_type": "stream",
          "name": "stdout",
          "text": [
            "drive  rideshare_kaggle.csv  sample_data\n"
          ]
        }
      ]
    },
    {
      "cell_type": "code",
      "source": [],
      "metadata": {
        "id": "Ad3qN_bBZDAx"
      },
      "execution_count": 20,
      "outputs": []
    },
    {
      "cell_type": "code",
      "source": [],
      "metadata": {
        "id": "cua1fZLOZDER"
      },
      "execution_count": 20,
      "outputs": []
    }
  ]
}