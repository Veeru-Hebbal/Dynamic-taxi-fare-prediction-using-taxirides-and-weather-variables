{
 "cells": [
  {
   "cell_type": "markdown",
   "id": "a3c3e994",
   "metadata": {},
   "source": [
    "# Anaconda prompt commands..."
   ]
  },
  {
   "cell_type": "markdown",
   "id": "c31795e6",
   "metadata": {},
   "source": [
    "### Basic commands of command prompt (MS-DOS)"
   ]
  },
  {
   "cell_type": "markdown",
   "id": "728bbe35",
   "metadata": {},
   "source": [
    "DO NOT run the whole jupyter notebook in a single run. As the commands (codes) are conflicting each other in some cases.\n",
    "That may corrupt either the notebook, environment system or all of them."
   ]
  },
  {
   "cell_type": "markdown",
   "id": "d9e6a0bb",
   "metadata": {},
   "source": [
    "The '!' (exclamation mark) in the below code is to run the command inside the Command prompt, and not in the jupyter kernel alone."
   ]
  },
  {
   "cell_type": "code",
   "execution_count": 11,
   "id": "ddb3202d",
   "metadata": {},
   "outputs": [],
   "source": [
    "# To change the directory to 'H:/' drive\n",
    "!F:\n",
    "# But, if you run the command directly in the command prompt, then remove the  '!' (exclamation mark) from the command"
   ]
  },
  {
   "cell_type": "code",
   "execution_count": 14,
   "id": "fbc59b82",
   "metadata": {},
   "outputs": [],
   "source": [
    "# md = change directory\n",
    "!F: && md \"Taxiapp1/data/new_folder\"    \n",
    "# will create a new folder (data) at 'H:/taxiapp1' path\n",
    "# works correctly in command prompt but not in jupyter notebook (because here it is shell and not prompt)"
   ]
  },
  {
   "cell_type": "code",
   "execution_count": 13,
   "id": "f927fcd3",
   "metadata": {},
   "outputs": [],
   "source": [
    "# To overcome that issue we can use the below code (In jupyter only and not in prompt).\n",
    "import os\n",
    "path = r'F:\\taxiapp\\data\\new_folder'\n",
    "if not os.path.exists(path):\n",
    "    os.makedirs(path)"
   ]
  },
  {
   "cell_type": "code",
   "execution_count": null,
   "id": "a8d94ad1",
   "metadata": {},
   "outputs": [],
   "source": [
    "# cd = change directory\n",
    "!cd taxiapp/data    # will move into 'H:/taxiapp/data' folder"
   ]
  },
  {
   "cell_type": "code",
   "execution_count": null,
   "id": "e7a55ad5",
   "metadata": {},
   "outputs": [],
   "source": [
    "!cd..    # will return one folder back i.e., 'H:/taxiapp' from previous block"
   ]
  },
  {
   "cell_type": "code",
   "execution_count": null,
   "id": "06632007",
   "metadata": {},
   "outputs": [],
   "source": [
    "!cd/    # will completely move back to the drive letter i.e., 'H:/'"
   ]
  },
  {
   "cell_type": "code",
   "execution_count": 2,
   "id": "cf783621",
   "metadata": {},
   "outputs": [
    {
     "name": "stdout",
     "output_type": "stream",
     "text": [
      "Python 3.8.16\n"
     ]
    }
   ],
   "source": [
    "# To check the python version from the working project environment\n",
    "!python --version"
   ]
  },
  {
   "cell_type": "code",
   "execution_count": null,
   "id": "84df8aca",
   "metadata": {},
   "outputs": [],
   "source": [
    "# To upgrade the anaconda to newest version before installing environment\n",
    "!conda update anaconda"
   ]
  },
  {
   "cell_type": "code",
   "execution_count": 3,
   "id": "8ee574e8",
   "metadata": {},
   "outputs": [
    {
     "name": "stdout",
     "output_type": "stream",
     "text": [
      "# packages in environment at C:\\Users\\socoe\\.conda\\envs\\taxi38:\n",
      "#\n",
      "# Name                    Version                   Build  Channel\n",
      "gitpython                 3.1.31                   pypi_0    pypi\n",
      "ipython                   8.10.0           py38haa95532_0  \n",
      "ipython_genutils          0.2.0              pyhd3eb1b0_1  \n",
      "python                    3.8.16               h6244533_3  \n",
      "python-dateutil           2.8.2              pyhd3eb1b0_0  \n",
      "python-fastjsonschema     2.16.2           py38haa95532_0  \n",
      "python-lsp-black          1.2.1            py38haa95532_0  \n",
      "python-lsp-jsonrpc        1.0.0              pyhd3eb1b0_0  \n",
      "python-lsp-server         1.7.1            py38haa95532_0  \n",
      "python-slugify            5.0.2              pyhd3eb1b0_0  \n"
     ]
    }
   ],
   "source": [
    "# To check the all versions of python installed in the system\n",
    "!conda list python"
   ]
  },
  {
   "cell_type": "markdown",
   "id": "cb6b5144",
   "metadata": {},
   "source": [
    "#### To check the List of environments installed"
   ]
  },
  {
   "cell_type": "code",
   "execution_count": 15,
   "id": "f27cb05f",
   "metadata": {},
   "outputs": [
    {
     "name": "stdout",
     "output_type": "stream",
     "text": [
      "# conda environments:\n",
      "#\n",
      "base                     C:\\ProgramData\\Anaconda3\n",
      "taxi38                *  C:\\Users\\socoe\\.conda\\envs\\taxi38\n",
      "taxiapp                  C:\\Users\\socoe\\.conda\\envs\\taxiapp\n",
      "\n"
     ]
    }
   ],
   "source": [
    "!conda env list"
   ]
  },
  {
   "cell_type": "markdown",
   "id": "ad2fc211",
   "metadata": {},
   "source": [
    "#### To clone the environment (when envs are available)"
   ]
  },
  {
   "cell_type": "code",
   "execution_count": null,
   "id": "6c8dba45",
   "metadata": {},
   "outputs": [],
   "source": [
    "!conda create --name taxiapp --clone taxi38\n",
    "# conda create --name <new_name> --clone <old_name>"
   ]
  },
  {
   "cell_type": "markdown",
   "id": "c8bb7fb8",
   "metadata": {},
   "source": [
    "#### Creating new environment and installing libraries with their dependencies."
   ]
  },
  {
   "cell_type": "code",
   "execution_count": null,
   "id": "06cf4069",
   "metadata": {},
   "outputs": [],
   "source": [
    "# create the new environment using anaconda prompt, also necessary libraries."
   ]
  },
  {
   "cell_type": "code",
   "execution_count": null,
   "id": "c72a7486",
   "metadata": {},
   "outputs": [],
   "source": [
    "!conda create --name taxiapp_01 python=3.8 jupyter spyder git streamlit"
   ]
  },
  {
   "cell_type": "code",
   "execution_count": null,
   "id": "9371eabc",
   "metadata": {},
   "outputs": [],
   "source": [
    "# To install and upgrade pip. It is better to upgrade before installing other libraries\n",
    "!python -m pip install --upgrade pip"
   ]
  },
  {
   "cell_type": "code",
   "execution_count": null,
   "id": "570f568c",
   "metadata": {},
   "outputs": [],
   "source": [
    "# To check the all versions of libraries installed in the environment\n",
    "!conda list "
   ]
  },
  {
   "cell_type": "markdown",
   "id": "3fd3ef5e",
   "metadata": {},
   "source": [
    "#### To create notebook kernel and link it with environment"
   ]
  },
  {
   "cell_type": "code",
   "execution_count": null,
   "id": "5fcdfaeb",
   "metadata": {},
   "outputs": [],
   "source": [
    "# create notebook kernel connected with the conda environment\n",
    "python -m ipykernel install --user --name taxiapp --display-name \"taxi_fare\""
   ]
  },
  {
   "cell_type": "markdown",
   "id": "b3806e1f",
   "metadata": {},
   "source": [
    "### Installing pycaret"
   ]
  },
  {
   "cell_type": "markdown",
   "id": "32c3d042",
   "metadata": {},
   "source": [
    "#### Installing pycaret (low-code library for regression and classification analysis)"
   ]
  },
  {
   "cell_type": "code",
   "execution_count": null,
   "id": "93ebfc58",
   "metadata": {},
   "outputs": [],
   "source": [
    "# For specific version of pycaret with hard-core dependencies only.\n",
    "!pip install pycaret==2.3.5"
   ]
  },
  {
   "cell_type": "code",
   "execution_count": null,
   "id": "9d5aaa64",
   "metadata": {},
   "outputs": [],
   "source": [
    "# For recent version of pycaret with hard-core dependencies only.\n",
    "!pip install --user --pre pycaret"
   ]
  },
  {
   "cell_type": "code",
   "execution_count": null,
   "id": "e0326b1f",
   "metadata": {},
   "outputs": [],
   "source": [
    "# For installing Pycaret with complete dependencies\n",
    "!pip install pycaret[full]"
   ]
  },
  {
   "cell_type": "markdown",
   "id": "714e5e1f",
   "metadata": {},
   "source": [
    "#### Installing pycaret (low-code library for Time-Series analysis)"
   ]
  },
  {
   "cell_type": "code",
   "execution_count": null,
   "id": "a2e30c58",
   "metadata": {},
   "outputs": [],
   "source": [
    "# For installing Pycaret for time-series analysis\n",
    "!pip install pycaret-ts-alpha"
   ]
  },
  {
   "cell_type": "markdown",
   "id": "aee24426",
   "metadata": {},
   "source": [
    "#### To activate the environment"
   ]
  },
  {
   "cell_type": "code",
   "execution_count": 22,
   "id": "d753cdf4",
   "metadata": {},
   "outputs": [
    {
     "name": "stdout",
     "output_type": "stream",
     "text": [
      "C:\\\n"
     ]
    }
   ],
   "source": [
    "%cd C:/"
   ]
  },
  {
   "cell_type": "code",
   "execution_count": 24,
   "id": "345a3e5e",
   "metadata": {},
   "outputs": [
    {
     "name": "stdout",
     "output_type": "stream",
     "text": [
      "F:\\taxiapp\n"
     ]
    }
   ],
   "source": [
    "%cd F:/taxiapp"
   ]
  },
  {
   "cell_type": "code",
   "execution_count": 20,
   "id": "ac9a99ed",
   "metadata": {},
   "outputs": [],
   "source": [
    "!conda activate taxiapp\n",
    "# This will change directory to F:/ drive and move into 'taxiapp' folder, \n",
    "# then activate the environment."
   ]
  },
  {
   "cell_type": "code",
   "execution_count": 26,
   "id": "c8416d2d",
   "metadata": {},
   "outputs": [],
   "source": [
    "# NOTE: you may need to restart the kernel to use updated packages. Therefore try starting from command prompt itself.\n",
    "# !conda activate taxiapp && spyder"
   ]
  },
  {
   "cell_type": "code",
   "execution_count": 27,
   "id": "be0d206c",
   "metadata": {},
   "outputs": [],
   "source": [
    "# !conda activate taxiapp && jupyter notebook"
   ]
  },
  {
   "cell_type": "markdown",
   "id": "6274ce93",
   "metadata": {},
   "source": [
    "\n",
    "##### In command prompt you can copy-paste this command to open spyder\n",
    "F: && cd taxiapp && conda activate taxiapp && spyder\n",
    "##### In command prompt you can copy-paste this command to open jupyter notebook\n",
    "F: && cd taxiapp && conda activate taxiapp && jupyter notebook\n",
    "\n",
    "make sure to check the drive letter of your location of the project."
   ]
  },
  {
   "cell_type": "markdown",
   "id": "cf3421b4",
   "metadata": {},
   "source": [
    "#### Installing the required pip packages."
   ]
  },
  {
   "cell_type": "code",
   "execution_count": null,
   "id": "d4588bfd",
   "metadata": {},
   "outputs": [],
   "source": [
    "# Be careful to use this. Instead install individual libraries, so that if not-compatible then we can roll back to previous version.\n",
    "!pip install --upgrade-strategy only-if-needed matplotlib streamlit cookiecutter pyarrow pdoc3 mlflow pandas sweetviz dtale \n",
    "!pip install --upgrade-strategy only-if-needed geopandas mediapipe pyspark pyngrok google-cloud-storage"
   ]
  },
  {
   "cell_type": "code",
   "execution_count": null,
   "id": "3ac81397",
   "metadata": {},
   "outputs": [],
   "source": [
    "# Always know which version of the packages we are using in the project. So that they can be reverted back to solve dependency issues\n",
    "!pip install matplotlib==<previous_version>"
   ]
  },
  {
   "cell_type": "code",
   "execution_count": null,
   "id": "70a6cd68",
   "metadata": {},
   "outputs": [],
   "source": [
    "# Also, we can use this command to install packages from trusted sources\n",
    "!pip install --trusted-host pypi.org --trusted-host files.pythonhosted.org pycaret"
   ]
  },
  {
   "cell_type": "markdown",
   "id": "48c34a5b",
   "metadata": {},
   "source": [
    "#### PRE-COMMIT packages"
   ]
  },
  {
   "cell_type": "code",
   "execution_count": 28,
   "id": "393f18b7",
   "metadata": {},
   "outputs": [],
   "source": [
    "# Some important packages for PRE-COMMIT the code, before actually commiting to the git-hub repository\n",
    "!pip install --upgrade-strategy only-if-needed black flake8 isort interrogate pdoc3 pre-commit hydra-core poetry"
   ]
  },
  {
   "cell_type": "code",
   "execution_count": null,
   "id": "f4bfabc2",
   "metadata": {},
   "outputs": [],
   "source": [
    "# To do the same for individual package\n",
    "!pip install --upgrade-strategy only-if-needed matplotlib"
   ]
  },
  {
   "cell_type": "markdown",
   "id": "14faad00",
   "metadata": {},
   "source": [
    "### Still to work on Makefile"
   ]
  },
  {
   "cell_type": "markdown",
   "id": "5b38b2e9",
   "metadata": {},
   "source": [
    "### Still to work on config file"
   ]
  },
  {
   "cell_type": "code",
   "execution_count": null,
   "id": "6d65f21c",
   "metadata": {},
   "outputs": [],
   "source": [
    "# If some packages are not working and not found, or not installed properly, then\n",
    "# Check if they are installed and which version in Anacond prompt.\n",
    "# Chech with pip repository and conda repository to verify.\n",
    "\n",
    "!conda list"
   ]
  },
  {
   "cell_type": "code",
   "execution_count": null,
   "id": "8bff717c",
   "metadata": {},
   "outputs": [],
   "source": [
    "!pip list"
   ]
  },
  {
   "cell_type": "code",
   "execution_count": null,
   "id": "3b93abb3",
   "metadata": {},
   "outputs": [],
   "source": [
    "# If the package is present in pip repo, and not in conda repo. Then that is the problem. \n",
    "# Try uninstalling the package using\n",
    "!pip uninstall streamlit\n",
    "!pip list    # To check if it is uninstalled properly."
   ]
  },
  {
   "cell_type": "code",
   "execution_count": null,
   "id": "2c74a2a3",
   "metadata": {},
   "outputs": [],
   "source": [
    "!Conda install streamlit\n",
    "# This will install all the necessary dependencies in both conda and pip repositories."
   ]
  },
  {
   "cell_type": "code",
   "execution_count": null,
   "id": "4cdf3d1e",
   "metadata": {},
   "outputs": [],
   "source": [
    "# Try verifying using \n",
    "!streamlit hello"
   ]
  },
  {
   "cell_type": "code",
   "execution_count": null,
   "id": "bc21c34a",
   "metadata": {},
   "outputs": [],
   "source": [
    "# This path is to be saved in system variable path in Environment variables. NOTE to chane the <user name> here (socoe).\n",
    "C:\\Users\\socoe\\AppData\\Roaming\\Python\\Python38\\Site-Packages\n",
    "C:\\Users\\socoe\\AppData\\Roaming\\Python\\Python38\\Scripts"
   ]
  },
  {
   "cell_type": "code",
   "execution_count": null,
   "id": "31748c5f",
   "metadata": {},
   "outputs": [],
   "source": [
    "h: && conda activate taxiapp_01 && spyder\n",
    "h: && cd taxiapp && conda activate taxiapp_01 && streamlit run app_05.py"
   ]
  }
 ],
 "metadata": {
  "kernelspec": {
   "display_name": "Python 3 (ipykernel)",
   "language": "python",
   "name": "python3"
  },
  "language_info": {
   "codemirror_mode": {
    "name": "ipython",
    "version": 3
   },
   "file_extension": ".py",
   "mimetype": "text/x-python",
   "name": "python",
   "nbconvert_exporter": "python",
   "pygments_lexer": "ipython3",
   "version": "3.8.16"
  }
 },
 "nbformat": 4,
 "nbformat_minor": 5
}
